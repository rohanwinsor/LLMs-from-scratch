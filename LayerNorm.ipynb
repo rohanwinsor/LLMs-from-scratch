{
 "cells": [
  {
   "cell_type": "code",
   "execution_count": 1,
   "id": "7a52fce7-f1b0-4e3a-995e-d5deb10c4beb",
   "metadata": {},
   "outputs": [],
   "source": [
    "import torch\n",
    "import torch.nn as nn\n",
    "\n",
    "torch.set_printoptions(sci_mode=False)"
   ]
  },
  {
   "cell_type": "code",
   "execution_count": 2,
   "id": "5de88cb7-e0b9-43af-8341-3e061504bbdf",
   "metadata": {},
   "outputs": [],
   "source": [
    "class ModelWithLayerNorm(nn.Module):\n",
    "    def __init__(self, *args):\n",
    "        super().__init__()\n",
    "        self.l1 = nn.Linear(args[0], args[1])\n",
    "\n",
    "    def forward(self, x):\n",
    "        x = self.l1(x)\n",
    "        # mean & var\n",
    "        mean, var = x.mean(dim=-1, keepdim=True), x.var(dim=-1, keepdim=True)\n",
    "        # layer norm\n",
    "        out = (x - mean) / torch.sqrt(var)\n",
    "        # Check for mean == 0 and var == 1\n",
    "        # assert is_near_zero(out.mean()) and  is_very_near_one(out.var())\n",
    "        return out"
   ]
  },
  {
   "cell_type": "code",
   "execution_count": 3,
   "id": "5261efa5-e349-4129-bd8a-b221fa160f02",
   "metadata": {},
   "outputs": [],
   "source": [
    "inp = torch.rand(2, 2)\n",
    "model = ModelWithLayerNorm(*inp.shape)"
   ]
  },
  {
   "cell_type": "code",
   "execution_count": 4,
   "id": "af623b55-eab7-419b-b72b-612fe973b8f5",
   "metadata": {},
   "outputs": [
    {
     "data": {
      "text/plain": [
       "tensor([[    0.0000],\n",
       "        [    0.0000]], grad_fn=<MeanBackward1>)"
      ]
     },
     "execution_count": 4,
     "metadata": {},
     "output_type": "execute_result"
    }
   ],
   "source": [
    "model(inp).mean(dim=-1, keepdim=True)"
   ]
  },
  {
   "cell_type": "code",
   "execution_count": 5,
   "id": "b827216a-daa1-4245-ba18-a781c840622a",
   "metadata": {},
   "outputs": [
    {
     "data": {
      "text/plain": [
       "tensor([[1.0000],\n",
       "        [1.0000]], grad_fn=<VarBackward0>)"
      ]
     },
     "execution_count": 5,
     "metadata": {},
     "output_type": "execute_result"
    }
   ],
   "source": [
    "model(inp).var(dim=-1, keepdim=True)"
   ]
  },
  {
   "cell_type": "code",
   "execution_count": null,
   "id": "7384f251-5432-4011-a58d-d6ed64f32ebb",
   "metadata": {},
   "outputs": [],
   "source": []
  }
 ],
 "metadata": {
  "kernelspec": {
   "display_name": "Python 3 (ipykernel)",
   "language": "python",
   "name": "python3"
  },
  "language_info": {
   "codemirror_mode": {
    "name": "ipython",
    "version": 3
   },
   "file_extension": ".py",
   "mimetype": "text/x-python",
   "name": "python",
   "nbconvert_exporter": "python",
   "pygments_lexer": "ipython3",
   "version": "3.12.2"
  }
 },
 "nbformat": 4,
 "nbformat_minor": 5
}
