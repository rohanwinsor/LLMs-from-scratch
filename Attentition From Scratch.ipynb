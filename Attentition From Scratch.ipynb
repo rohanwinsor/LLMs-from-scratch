{
 "cells": [
  {
   "cell_type": "markdown",
   "id": "29f51f99-90d8-40dc-8fce-51ee3242f937",
   "metadata": {},
   "source": [
    "### Simple Calculation of attentation score"
   ]
  },
  {
   "cell_type": "code",
   "execution_count": 16,
   "id": "b8352d73-6eab-48c7-99d1-9f1df1d4d3d5",
   "metadata": {},
   "outputs": [
    {
     "data": {
      "text/plain": [
       "tensor([0.9544, 1.4950, 1.4754, 0.8434, 0.7070, 1.0865])"
      ]
     },
     "execution_count": 16,
     "metadata": {},
     "output_type": "execute_result"
    }
   ],
   "source": [
    "import torch\n",
    "inputs = torch.tensor(\n",
    "    [[0.43, 0.15, 0.89], # Your (x^1)\n",
    "    [0.55, 0.87, 0.66], # journey (x^2)\n",
    "    [0.57, 0.85, 0.64], # starts (x^3)\n",
    "    [0.22, 0.58, 0.33], # with (x^4)\n",
    "    [0.77, 0.25, 0.10], # one (x^5)\n",
    "    [0.05, 0.80, 0.55]] # step (x^6)\n",
    ")\n",
    "query = inputs[1]\n",
    "attention_score = torch.empty(inputs.shape[0])\n",
    "for i, x_i in enumerate(inputs):\n",
    "    attention_score[i] = query @ x_i # Dot Product\n",
    "## attention_score\n",
    "attention_score"
   ]
  },
  {
   "cell_type": "code",
   "execution_count": null,
   "id": "823d0915-049b-4aba-9c90-5539a844b92f",
   "metadata": {},
   "outputs": [],
   "source": []
  }
 ],
 "metadata": {
  "kernelspec": {
   "display_name": "Python 3 (ipykernel)",
   "language": "python",
   "name": "python3"
  },
  "language_info": {
   "codemirror_mode": {
    "name": "ipython",
    "version": 3
   },
   "file_extension": ".py",
   "mimetype": "text/x-python",
   "name": "python",
   "nbconvert_exporter": "python",
   "pygments_lexer": "ipython3",
   "version": "3.12.2"
  }
 },
 "nbformat": 4,
 "nbformat_minor": 5
}
