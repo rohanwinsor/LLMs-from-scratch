{
 "cells": [
  {
   "cell_type": "markdown",
   "id": "29f51f99-90d8-40dc-8fce-51ee3242f937",
   "metadata": {},
   "source": [
    "### Simple Calculation of attentation score"
   ]
  },
  {
   "cell_type": "code",
   "execution_count": 43,
   "id": "9635a63d-fe12-4079-8e71-649e61744240",
   "metadata": {},
   "outputs": [],
   "source": [
    "import matplotlib.pyplot as plt\n",
    "from matplotlib.colors import ListedColormap\n",
    "import seaborn as sns\n",
    "%matplotlib inline"
   ]
  },
  {
   "cell_type": "code",
   "execution_count": 1,
   "id": "b8352d73-6eab-48c7-99d1-9f1df1d4d3d5",
   "metadata": {},
   "outputs": [],
   "source": [
    "import torch\n",
    "\n",
    "inputs = torch.tensor(\n",
    "    [\n",
    "        [0.43, 0.15, 0.89],  # Your (x^1)\n",
    "        [0.55, 0.87, 0.66],  # journey (x^2)\n",
    "        [0.57, 0.85, 0.64],  # starts (x^3)\n",
    "        [0.22, 0.58, 0.33],  # with (x^4)\n",
    "        [0.77, 0.25, 0.10],  # one (x^5)\n",
    "        [0.05, 0.80, 0.55],\n",
    "    ]  # step (x^6)\n",
    ")"
   ]
  },
  {
   "cell_type": "markdown",
   "id": "df3bc581-89aa-40e4-847e-039834a60476",
   "metadata": {},
   "source": [
    "### Just for `journey`"
   ]
  },
  {
   "cell_type": "code",
   "execution_count": 2,
   "id": "d0812421-96f2-4c8f-a0ef-1b2aab4c2b4b",
   "metadata": {},
   "outputs": [
    {
     "name": "stdout",
     "output_type": "stream",
     "text": [
      "tensor(6.5617)\n",
      "tensor([0.1455, 0.2278, 0.2249, 0.1285, 0.1077, 0.1656])\n",
      "tensor(1.0000)\n"
     ]
    }
   ],
   "source": [
    "query = inputs[1]\n",
    "attentation_score = torch.empty(inputs.shape[0])\n",
    "for i, x_i in enumerate(inputs):\n",
    "    attentation_score[i] = query @ x_i  # Dot Product\n",
    "## attentation_score sum\n",
    "print(attentation_score.sum())\n",
    "## normalize att score\n",
    "attentation_score_norm = (\n",
    "    attentation_score / attentation_score.sum()\n",
    ")  # Done to increase training stability, generally done using softmax\n",
    "print(attentation_score_norm)\n",
    "## normalize att score sum\n",
    "print(attentation_score_norm.sum())"
   ]
  },
  {
   "cell_type": "code",
   "execution_count": 3,
   "id": "823d0915-049b-4aba-9c90-5539a844b92f",
   "metadata": {},
   "outputs": [
    {
     "data": {
      "text/plain": [
       "tensor([0.1385, 0.2379, 0.2333, 0.1240, 0.1082, 0.1581])"
      ]
     },
     "execution_count": 3,
     "metadata": {},
     "output_type": "execute_result"
    }
   ],
   "source": [
    "def softmax_naive(x):\n",
    "    return torch.exp(x) / torch.exp(x).sum(dim=0)\n",
    "\n",
    "\n",
    "# better norm to handle extreme values, and ensure weights are +ve\n",
    "atte_score_norm = softmax_naive(attentation_score)\n",
    "atte_score_norm"
   ]
  },
  {
   "cell_type": "code",
   "execution_count": 4,
   "id": "d5a20c37-d953-41fd-bea4-a55e42ca135a",
   "metadata": {},
   "outputs": [
    {
     "data": {
      "text/plain": [
       "tensor([0.4419, 0.6515, 0.5683])"
      ]
     },
     "execution_count": 4,
     "metadata": {},
     "output_type": "execute_result"
    }
   ],
   "source": [
    "# context vector\n",
    "context_vector = torch.empty(inputs.shape[1])\n",
    "for i, x_i in enumerate(inputs):\n",
    "    context_vector += (\n",
    "        atte_score_norm[i] * x_i\n",
    "    )  # Multiply the atten score for that input with input and sum them together\n",
    "context_vector"
   ]
  },
  {
   "cell_type": "markdown",
   "id": "db16a867-f3de-476f-bdb5-34f06b083de4",
   "metadata": {},
   "source": [
    "### Atten and Context Calculation for everything naive"
   ]
  },
  {
   "cell_type": "code",
   "execution_count": 5,
   "id": "f71b5ca3-731b-46f2-b99e-97244893b14a",
   "metadata": {},
   "outputs": [
    {
     "data": {
      "text/plain": [
       "tensor([0.4419, 0.6515, 0.5683])"
      ]
     },
     "execution_count": 5,
     "metadata": {},
     "output_type": "execute_result"
    }
   ],
   "source": [
    "## norm att\n",
    "att = torch.empty((inputs.shape[0], inputs.shape[0]))\n",
    "for idx, query in enumerate(inputs):\n",
    "    for i, x_i in enumerate(inputs):\n",
    "        att[idx][i] = query @ x_i\n",
    "att_norm = torch.softmax(att, dim=1)  # torch softmax bro\n",
    "# context vector\n",
    "context = torch.empty(inputs.shape)\n",
    "for idx, a_n in enumerate(att_norm):\n",
    "    for i, x_i in enumerate(inputs):\n",
    "        context[idx] += a_n[i] * x_i\n",
    "context[1]"
   ]
  },
  {
   "cell_type": "markdown",
   "id": "5cf026b8-db7d-4d32-b859-2e23f097edb7",
   "metadata": {},
   "source": [
    "### Atten and Context Calculation for everything matrix"
   ]
  },
  {
   "cell_type": "code",
   "execution_count": 6,
   "id": "97ee1b68-4fab-46e0-aae4-14c937a4bbac",
   "metadata": {},
   "outputs": [
    {
     "data": {
      "text/plain": [
       "tensor([0.4419, 0.6515, 0.5683])"
      ]
     },
     "execution_count": 6,
     "metadata": {},
     "output_type": "execute_result"
    }
   ],
   "source": [
    "att = inputs @ inputs.T\n",
    "att_norm = torch.softmax(att, dim=1)  # torch softmax bro\n",
    "context = att_norm @ inputs\n",
    "context[1]"
   ]
  },
  {
   "cell_type": "markdown",
   "id": "72e8ae92-05e5-4e4a-9b04-7b0ae3ed12cd",
   "metadata": {},
   "source": [
    "### Adding trainable parameters to the self-attentation\n",
    "\n",
    ">from the book:\n",
    ">\n",
    ">**Weight parameters vs. attentation weights**\n",
    ">\n",
    ">In the weight matrices W, the term “weight” is short for “weight parameters,” the val-\n",
    "ues of a neural network that are optimized during training. This is not to be confused\n",
    "with the attentation weights. As we already saw, attentation weights determine the extent\n",
    "to which a context vector depends on the different parts of the input (i.e., to what\n",
    "extent the network focuses on different parts of the input).\n",
    "In summary, weight parameters are the fundamental, learned coefficients that define\n",
    "the network’s connections, while attentation weights are dynamic, context-specific values."
   ]
  },
  {
   "cell_type": "code",
   "execution_count": 7,
   "id": "a307118a-9afd-4f55-a107-8f0bfb30394d",
   "metadata": {},
   "outputs": [
    {
     "name": "stdout",
     "output_type": "stream",
     "text": [
      "tensor([0.4306, 1.4551])\n"
     ]
    }
   ],
   "source": [
    "torch.manual_seed(123)\n",
    "x_2 = inputs[1]\n",
    "d_in = inputs.shape[1]  # 3\n",
    "d_out = 2\n",
    "W_query = torch.nn.Parameter(torch.rand(d_in, d_out), requires_grad=False)\n",
    "W_key = torch.nn.Parameter(torch.rand(d_in, d_out), requires_grad=False)\n",
    "W_value = torch.nn.Parameter(torch.rand(d_in, d_out), requires_grad=False)\n",
    "\n",
    "query_2 = x_2 @ W_query\n",
    "print(query_2)"
   ]
  },
  {
   "cell_type": "code",
   "execution_count": 8,
   "id": "9d88221e-83e7-47cf-a251-dd4ed57c90ee",
   "metadata": {},
   "outputs": [
    {
     "data": {
      "text/plain": [
       "tensor(1.8524)"
      ]
     },
     "execution_count": 8,
     "metadata": {},
     "output_type": "execute_result"
    }
   ],
   "source": [
    "key = inputs @ W_key\n",
    "value = inputs @ W_value\n",
    "\n",
    "# We need to compute the att_score for journey with just key[1]\n",
    "att_score_22 = query_2 @ key[1]\n",
    "att_score_22"
   ]
  },
  {
   "cell_type": "code",
   "execution_count": 9,
   "id": "fea83a46-012a-41d4-a00a-6073608e9f0c",
   "metadata": {},
   "outputs": [
    {
     "data": {
      "text/plain": [
       "tensor([0.3061, 0.8210])"
      ]
     },
     "execution_count": 9,
     "metadata": {},
     "output_type": "execute_result"
    }
   ],
   "source": [
    "# Getting actual att score for `journey`\n",
    "att_score_2 = query_2 @ key.T\n",
    "# Scaling the att\n",
    "d_k = key.shape[-1]\n",
    "attn_weights_2 = torch.softmax(att_score_2 / d_k**0.5, dim=-1)\n",
    "context_vec2 = attn_weights_2 @ value\n",
    "context_vec2"
   ]
  },
  {
   "cell_type": "code",
   "execution_count": 10,
   "id": "48999847-1099-4b3d-bb8c-5b066af4306c",
   "metadata": {},
   "outputs": [],
   "source": [
    "from attentation import SelfAttentationV0"
   ]
  },
  {
   "cell_type": "code",
   "execution_count": 11,
   "id": "d48147a8-a93c-41b2-b64e-5628e72c28ca",
   "metadata": {},
   "outputs": [
    {
     "data": {
      "text/plain": [
       "tensor([[0.2996, 0.8053],\n",
       "        [0.3061, 0.8210],\n",
       "        [0.3058, 0.8203],\n",
       "        [0.2948, 0.7939],\n",
       "        [0.2927, 0.7891],\n",
       "        [0.2990, 0.8040]], grad_fn=<MmBackward0>)"
      ]
     },
     "execution_count": 11,
     "metadata": {},
     "output_type": "execute_result"
    }
   ],
   "source": [
    "torch.manual_seed(123)\n",
    "SelfAttentationV0(d_in, d_out)(inputs)"
   ]
  },
  {
   "cell_type": "markdown",
   "id": "4ec69bdd-2cb4-4f26-a294-f804ac4596f7",
   "metadata": {},
   "source": [
    "### Casual Attentation (Masked Attentation) v0"
   ]
  },
  {
   "cell_type": "code",
   "execution_count": 12,
   "id": "7ab8ceb5-1431-49e8-a4c4-cb49fb1e76f3",
   "metadata": {},
   "outputs": [
    {
     "data": {
      "text/plain": [
       "tensor([[1.0000, 0.0000, 0.0000, 0.0000, 0.0000, 0.0000],\n",
       "        [0.3170, 0.6830, 0.0000, 0.0000, 0.0000, 0.0000],\n",
       "        [0.1915, 0.4088, 0.3998, 0.0000, 0.0000, 0.0000],\n",
       "        [0.2051, 0.3090, 0.3051, 0.1807, 0.0000, 0.0000],\n",
       "        [0.1738, 0.2536, 0.2511, 0.1625, 0.1590, 0.0000],\n",
       "        [0.1419, 0.2408, 0.2367, 0.1192, 0.1126, 0.1487]],\n",
       "       grad_fn=<DivBackward0>)"
      ]
     },
     "execution_count": 12,
     "metadata": {},
     "output_type": "execute_result"
    }
   ],
   "source": [
    "# Init Weight for K, Q, V\n",
    "w_K = torch.nn.Parameter(torch.rand(3, 2))\n",
    "w_Q = torch.nn.Parameter(torch.rand(3, 2))\n",
    "w_V = torch.nn.Parameter(torch.rand(3, 2))\n",
    "# Calculate K, Q, V\n",
    "K = inputs @ w_K\n",
    "Q = inputs @ w_Q\n",
    "V = inputs @ w_V\n",
    "# Compute omega\n",
    "omega = K @ Q.T\n",
    "# Att Weight\n",
    "att_weight = torch.softmax(omega/K.shape[-1]**0.5, dim=-1)\n",
    "# Masked Att\n",
    "mask = torch.tril(torch.ones(att_weight.shape[0], att_weight.shape[0]))\n",
    "masked_att_simple = mask*att_weight\n",
    "# Renormalize\n",
    "masked_att_simple = masked_att_simple/masked_att_simple.sum(dim=1, keepdim=True)\n",
    "masked_att_simple"
   ]
  },
  {
   "cell_type": "markdown",
   "id": "bba31625-ed81-4d3d-9f81-62de7ffa7377",
   "metadata": {},
   "source": [
    "### Casual Attentation (Masked Attentation) v1"
   ]
  },
  {
   "cell_type": "code",
   "execution_count": 28,
   "id": "c59c685e-0b62-46b9-9c2a-9ebaec36526f",
   "metadata": {},
   "outputs": [
    {
     "data": {
      "text/plain": [
       "tensor([[1.0000, 0.0000, 0.0000, 0.0000, 0.0000, 0.0000],\n",
       "        [0.4916, 0.5084, 0.0000, 0.0000, 0.0000, 0.0000],\n",
       "        [0.3267, 0.3380, 0.3352, 0.0000, 0.0000, 0.0000],\n",
       "        [0.2605, 0.2651, 0.2638, 0.2106, 0.0000, 0.0000],\n",
       "        [0.2104, 0.2166, 0.2160, 0.1749, 0.1821, 0.0000],\n",
       "        [0.1857, 0.1888, 0.1875, 0.1419, 0.1409, 0.1552]],\n",
       "       grad_fn=<SoftmaxBackward0>)"
      ]
     },
     "execution_count": 28,
     "metadata": {},
     "output_type": "execute_result"
    }
   ],
   "source": [
    "# Init Weight for K, Q, V\n",
    "w_K = torch.nn.Parameter(torch.rand(3, 2))\n",
    "w_Q = torch.nn.Parameter(torch.rand(3, 2))\n",
    "w_V = torch.nn.Parameter(torch.rand(3, 2))\n",
    "# Calculate K, Q, V\n",
    "K = inputs @ w_K\n",
    "Q = inputs @ w_Q\n",
    "V = inputs @ w_V\n",
    "# Compute omega\n",
    "omega = K @ Q.T\n",
    "mask = torch.triu(torch.ones(omega.shape[0], omega.shape[0]), diagonal=1)\n",
    "masked_omega = omega.masked_fill(mask.bool(), -torch.inf)\n",
    "# Att Weight\n",
    "masked_att_weight = torch.softmax(masked_omega/K.shape[-1]**0.5, dim=-1)\n",
    "masked_att_weight"
   ]
  },
  {
   "cell_type": "markdown",
   "id": "27f09bf0-1132-4ff9-9e13-11cdc06a6b6a",
   "metadata": {},
   "source": [
    "### Casual Attentation (Masked Attentation) v3(Drop out)"
   ]
  },
  {
   "cell_type": "code",
   "execution_count": 29,
   "id": "f6a4848e-da70-4c72-9a8e-957e0104d493",
   "metadata": {},
   "outputs": [
    {
     "data": {
      "text/plain": [
       "tensor([[0.0000, 0.0000, 0.0000, 0.0000, 0.0000, 0.0000],\n",
       "        [0.0000, 1.1547, 0.0000, 0.0000, 0.0000, 0.0000],\n",
       "        [0.0000, 0.7366, 0.0000, 0.0000, 0.0000, 0.0000],\n",
       "        [0.4874, 0.5815, 0.5743, 0.3568, 0.0000, 0.0000],\n",
       "        [0.4083, 0.0000, 0.0000, 0.3405, 0.3372, 0.0000],\n",
       "        [0.3579, 0.4565, 0.0000, 0.2306, 0.0000, 0.0000]],\n",
       "       grad_fn=<MulBackward0>)"
      ]
     },
     "execution_count": 29,
     "metadata": {},
     "output_type": "execute_result"
    }
   ],
   "source": [
    "# Init Weight for K, Q, V\n",
    "w_K = torch.nn.Parameter(torch.rand(3, 2))\n",
    "w_Q = torch.nn.Parameter(torch.rand(3, 2))\n",
    "w_V = torch.nn.Parameter(torch.rand(3, 2))\n",
    "# Calculate K, Q, V\n",
    "K = inputs @ w_K\n",
    "Q = inputs @ w_Q\n",
    "V = inputs @ w_V\n",
    "# Compute omega\n",
    "omega = K @ Q.T\n",
    "mask = torch.triu(torch.ones(omega.shape[0], omega.shape[0]), diagonal=1)\n",
    "masked_omega = omega.masked_fill(mask.bool(), -torch.inf)\n",
    "# Att Weight\n",
    "masked_att_weight = torch.softmax(masked_omega/K.shape[-1]**0.5, dim=-1)\n",
    "dropout = torch.nn.Dropout()\n",
    "dropout(masked_att_weight)"
   ]
  },
  {
   "cell_type": "code",
   "execution_count": 47,
   "id": "24bee143-0074-4b29-9e2b-0e36f9c0ebe0",
   "metadata": {},
   "outputs": [
    {
     "data": {
      "image/png": "[encoded data removed]",
      "text/plain": [
       "<Figure size 800x600 with 1 Axes>"
      ]
     },
     "metadata": {},
     "output_type": "display_data"
    }
   ],
   "source": [
    "# Plot the attentation matrix\n",
    "att = dropout(masked_att_weight).detach().numpy()\n",
    "plt.figure(figsize=(8, 6))\n",
    "ax = sns.heatmap(att, annot=True, cmap=ListedColormap(['lightgray', 'darkblue']), cbar=False, linewidths=2, linecolor='black', square=True, mask = att == 0)\n",
    "ax.set_xticks([])\n",
    "ax.set_yticks([])\n",
    "plt.show()"
   ]
  },
  {
   "cell_type": "code",
   "execution_count": null,
   "id": "ddcbd0a9-16bf-403b-a642-0b3a3be2f09e",
   "metadata": {},
   "outputs": [],
   "source": []
  }
 ],
 "metadata": {
  "kernelspec": {
   "display_name": "Python 3 (ipykernel)",
   "language": "python",
   "name": "python3"
  },
  "language_info": {
   "codemirror_mode": {
    "name": "ipython",
    "version": 3
   },
   "file_extension": ".py",
   "mimetype": "text/x-python",
   "name": "python",
   "nbconvert_exporter": "python",
   "pygments_lexer": "ipython3",
   "version": "3.12.2"
  }
 },
 "nbformat": 4,
 "nbformat_minor": 5
}
